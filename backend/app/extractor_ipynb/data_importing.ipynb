{
 "cells": [
  {
   "cell_type": "code",
   "execution_count": 1,
   "id": "d48dd98e",
   "metadata": {},
   "outputs": [
    {
     "name": "stdout",
     "output_type": "stream",
     "text": [
      "Collecting neo4j==4.4.5\n",
      "  Using cached neo4j-4.4.5-py3-none-any.whl\n",
      "Requirement already satisfied: pytz in /Users/ty/awt_backend/venv/lib/python3.9/site-packages (from neo4j==4.4.5) (2022.1)\n",
      "Installing collected packages: neo4j\n",
      "Successfully installed neo4j-4.4.5\n"
     ]
    }
   ],
   "source": [
    "# !pip3 install neo4j==4.4.5"
   ]
  },
  {
   "cell_type": "code",
   "execution_count": 4,
   "id": "7df21b46",
   "metadata": {},
   "outputs": [],
   "source": [
    "import time\n",
    "from neo4j import GraphDatabase\n",
    "import csv"
   ]
  },
  {
   "cell_type": "markdown",
   "id": "1afb5d00",
   "metadata": {},
   "source": [
    "### establish nodes\n",
    "\n"
   ]
  },
  {
   "cell_type": "code",
   "execution_count": 12,
   "id": "acb603ea",
   "metadata": {},
   "outputs": [
    {
     "name": "stdout",
     "output_type": "stream",
     "text": [
      "CPU times: user 7.35 ms, sys: 4.87 ms, total: 12.2 ms\n",
      "Wall time: 2min 3s\n"
     ]
    },
    {
     "data": {
      "text/plain": [
       "<neo4j.work.result.Result at 0x7f84a3fa4640>"
      ]
     },
     "execution_count": 12,
     "metadata": {},
     "output_type": "execute_result"
    }
   ],
   "source": [
    "%%time\n",
    "with open(\"../data/connector.txt\") as con:\n",
    "    data = csv.reader(con, delimiter = \",\")\n",
    "    for i in data:\n",
    "        user = i[0]\n",
    "        pwd = i[1]\n",
    "        uri = i[2]\n",
    "\n",
    "\n",
    "driver = GraphDatabase.driver(uri=uri, auth=(user,pwd))\n",
    "\n",
    "\n",
    "session = driver.session()\n",
    "\n",
    "\n",
    "\n",
    "clear_all_nodes = \"\"\"\n",
    "MATCH (n) DELETE n;\n",
    "\"\"\"\n",
    "\n",
    "clear_all = \"\"\"\n",
    "MATCH (n) DETACH DELETE n;\n",
    "\"\"\"\n",
    "\n",
    "# WITH cs LIMIT 10\n",
    "import_descriptions = \"\"\"\n",
    "CALL apoc.load.xml(\"2022-05-10_FOKUS_AWT_CompetencyExtraction_WB_Brandenburg_re-encoded.xml\",\"/DEFTISCAT/COURSETRANSACTIONS/INSERTCOURSES/*\") YIELD value AS cs\n",
    "WITH cs,\n",
    "[x IN cs._children WHERE x._type=\"CS_NAME\" | x._text] as name,\n",
    "[x IN cs._children WHERE x._type=\"CS_DESC_LONG\" | x._text] as desc,\n",
    "[x IN cs._children WHERE x._type=\"CS_ID\" | x._text] as cid\n",
    "MERGE (c:Course{cid:cid[0]})\n",
    "SET c.name=name[0],\n",
    "c.description = desc[0];\n",
    "\"\"\"\n",
    "\n",
    "\n",
    "import_competency = \"\"\"\n",
    "USING PERIODIC COMMIT 500\n",
    "LOAD CSV WITH HEADERS from \"file:/skills_de.csv\" AS row \n",
    "MERGE (c:Competency {uri:row.conceptUri})\n",
    "SET c.name = row.preferredLabel;\n",
    "\"\"\"\n",
    "\n",
    "\n",
    "session.run(clear_all)\n",
    "session.run(import_competency)\n",
    "session.run(import_descriptions)\n"
   ]
  },
  {
   "cell_type": "markdown",
   "id": "df2dfb54",
   "metadata": {},
   "source": [
    "### establish connections"
   ]
  },
  {
   "cell_type": "code",
   "execution_count": 13,
   "id": "e81d7813",
   "metadata": {},
   "outputs": [
    {
     "name": "stdout",
     "output_type": "stream",
     "text": [
      "CPU times: user 37.1 ms, sys: 15.4 ms, total: 52.5 ms\n",
      "Wall time: 12min 59s\n"
     ]
    }
   ],
   "source": [
    "%%time\n",
    "with open(\"../data/connector.txt\") as con:\n",
    "    data = csv.reader(con, delimiter = \",\")\n",
    "    for i in data:\n",
    "        user = i[0]\n",
    "        pwd = i[1]\n",
    "        uri = i[2]\n",
    "\n",
    "driver = GraphDatabase.driver(uri=uri, auth=(user, pwd))\n",
    "session = driver.session()\n",
    "\n",
    "clear_all_relations = \"\"\"\n",
    "MATCH ()-[r]-() DELETE r;\n",
    "\"\"\"\n",
    "\n",
    "session.run(clear_all_relations)\n",
    "\n",
    "for i in range(1,29): # with all relation-data in 28 csv-files\n",
    "    import_relation = \"\"\"\n",
    "    USING PERIODIC COMMIT 500\n",
    "    LOAD CSV WITH HEADERS from \"file:/relations/relations_part_\"\"\" + str(i) + \"\"\".csv\" AS row\n",
    "    MATCH (course:Course {cid:row.course_id})\n",
    "    MERGE (competency:Competency {uri: row.conceptUri})\n",
    "    MERGE (course)-[r:RELATED_TO]-(competency);\n",
    "    \"\"\"\n",
    "    session.run(import_relation)\n"
   ]
  },
  {
   "cell_type": "code",
   "execution_count": null,
   "id": "fd5d411e",
   "metadata": {},
   "outputs": [],
   "source": []
  }
 ],
 "metadata": {
  "kernelspec": {
   "display_name": "awt_backend",
   "language": "python",
   "name": "awt_backend"
  },
  "language_info": {
   "codemirror_mode": {
    "name": "ipython",
    "version": 3
   },
   "file_extension": ".py",
   "mimetype": "text/x-python",
   "name": "python",
   "nbconvert_exporter": "python",
   "pygments_lexer": "ipython3",
   "version": "3.9.7"
  }
 },
 "nbformat": 4,
 "nbformat_minor": 5
}
